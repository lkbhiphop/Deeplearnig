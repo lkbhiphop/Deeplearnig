{
 "cells": [
  {
   "cell_type": "code",
   "execution_count": 1,
   "metadata": {},
   "outputs": [],
   "source": [
    "import tensorflow as tf\n",
    "import numpy as np"
   ]
  },
  {
   "cell_type": "code",
   "execution_count": 8,
   "metadata": {},
   "outputs": [],
   "source": [
    "# constant로 실행하는 법"
   ]
  },
  {
   "cell_type": "code",
   "execution_count": 7,
   "metadata": {},
   "outputs": [
    {
     "name": "stdout",
     "output_type": "stream",
     "text": [
      "Tensor(\"Const_10:0\", shape=(), dtype=float32) Tensor(\"Const_11:0\", shape=(), dtype=float32) Tensor(\"Add_5:0\", shape=(), dtype=float32)\n",
      "5.0\n",
      "3.0\n",
      "2.0\n",
      "[3.0, 2.0, 5.0]\n"
     ]
    }
   ],
   "source": [
    "# 1. 그래프 빌드\n",
    "node1 = tf.constant(3.0, tf.float32)\n",
    "node2 = tf.constant(2.0, tf.float32)\n",
    "node3 = tf.add(node1,node2)\n",
    "\n",
    "print(node1, node2, node3)\n",
    "# 2. 실행\n",
    "sess = tf.Session()\n",
    "print(sess.run(node3))\n",
    "print(sess.run(node1))\n",
    "print(sess.run(node2))\n",
    "# 3. 동시에 한 번에 실행 (배열로 실행 가능)\n",
    "print(sess.run([node1,node2,node3]))"
   ]
  },
  {
   "cell_type": "code",
   "execution_count": 9,
   "metadata": {},
   "outputs": [],
   "source": [
    "# placeholder로 실행하는 법"
   ]
  },
  {
   "cell_type": "code",
   "execution_count": 13,
   "metadata": {},
   "outputs": [
    {
     "name": "stdout",
     "output_type": "stream",
     "text": [
      "7.0\n",
      "[ 7.  9. 11.]\n",
      "[[ 7.  9. 11.]\n",
      " [ 2.  4.  6.]]\n"
     ]
    }
   ],
   "source": [
    "ph1 = tf.placeholder(tf.float32)\n",
    "ph2 = tf.placeholder(tf.float32)\n",
    "adder = ph1 + ph2\n",
    "print(sess.run(adder,feed_dict={ph1:3, ph2 :4}))\n",
    "# placeholder명 --> key\n",
    "print(sess.run(adder,feed_dict={ph1:[3,4,5], ph2 :[4,5,6]}))\n",
    "# rank = 2 // shape = [2,3]\n",
    "print(sess.run(adder,feed_dict={ph1:[[3,4,5],[1,2,3]], ph2 :[[4,5,6],[1,2,3]]}))\n"
   ]
  },
  {
   "cell_type": "code",
   "execution_count": 14,
   "metadata": {},
   "outputs": [],
   "source": [
    "# 텐서플로우 디버깅하는법 \n",
    "# 거꾸로 올라가야한다. \n",
    "# 그래프이기때문에 어디가 빵꾸났는지 확인해야한다. "
   ]
  },
  {
   "cell_type": "code",
   "execution_count": null,
   "metadata": {},
   "outputs": [],
   "source": [
    "# 정규분포에서 10개의 값을 꺼낸다.\n",
    "# 1시그마를 0.35로 하겟다.\n",
    "# 초기화를 반드시 해줘야한다. "
   ]
  },
  {
   "cell_type": "code",
   "execution_count": 15,
   "metadata": {},
   "outputs": [],
   "source": [
    "v1 = tf.Variable(tf.random_normal([10,10], stddev = 0.35))\n",
    "# variable을 만들면 반드시 이니셜라이즈해야한다.\n",
    "sess.run(tf.global_variables_initializer())\n",
    "# tf.global_variables_initializer() 모든 variable을 초기화 한다. "
   ]
  },
  {
   "cell_type": "code",
   "execution_count": 18,
   "metadata": {},
   "outputs": [
    {
     "name": "stdout",
     "output_type": "stream",
     "text": [
      "[1 2 3 4]\n"
     ]
    }
   ],
   "source": [
    "# 디버깅용 (하나하나 바로바로 하는 것이다)\n",
    "sess = tf.InteractiveSession()\n",
    "t = tf.constant([1,2,3,4])\n",
    "print(t.eval())"
   ]
  },
  {
   "cell_type": "code",
   "execution_count": 22,
   "metadata": {},
   "outputs": [
    {
     "name": "stdout",
     "output_type": "stream",
     "text": [
      "[2 2]\n",
      "[2 1]\n",
      "[[1 2]\n",
      " [3 4]]\n",
      "[[1]\n",
      " [2]]\n",
      "[[1 2]\n",
      " [6 8]]\n"
     ]
    }
   ],
   "source": [
    "# t.eval() 프린트안에 넣으면 세션없이 바로 프린트할 수 있다.\n",
    "# shape이 뭐냐확인\n",
    "# tf.shape(t).eval()\n",
    "# shape도 하나의 operator라서 세션런으로 실행을 해야한다. \n",
    "mat1 = tf.constant([[1,2],[3,4]])\n",
    "mat2 = tf.constant([[1],[2]])\n",
    "print(tf.shape(mat1).eval())\n",
    "print(tf.shape(mat2).eval())\n",
    "print(mat1.eval())\n",
    "print(mat2.eval())\n",
    "print((mat1 * mat2).eval())"
   ]
  },
  {
   "cell_type": "code",
   "execution_count": null,
   "metadata": {},
   "outputs": [],
   "source": [
    "# .이 있으면 float\n",
    "# reduce_mean은 평균을 내는 operation이다."
   ]
  },
  {
   "cell_type": "code",
   "execution_count": 24,
   "metadata": {},
   "outputs": [
    {
     "data": {
      "text/plain": [
       "2.5"
      ]
     },
     "execution_count": 24,
     "metadata": {},
     "output_type": "execute_result"
    }
   ],
   "source": [
    "x = [[1.,2],[3,4]]\n",
    "tf.reduce_mean(x).eval()"
   ]
  },
  {
   "cell_type": "code",
   "execution_count": 25,
   "metadata": {},
   "outputs": [],
   "source": [
    "#axis = 0 --> 열\n",
    "#axis = 1 --> row \n",
    "# 가장 바깥쪽 덩어리가 0, 그 다음 껍데기 기준으로 평균해라 axis=1\n",
    "# 가장 안쪽만 하고 싶으면 axis= -1 할 수 있다. \n",
    "# 항상 같은 인덱스끼리 하는 거야 계산은"
   ]
  },
  {
   "cell_type": "code",
   "execution_count": 26,
   "metadata": {},
   "outputs": [
    {
     "data": {
      "text/plain": [
       "array([4., 6.], dtype=float32)"
      ]
     },
     "execution_count": 26,
     "metadata": {},
     "output_type": "execute_result"
    }
   ],
   "source": [
    "x = [[1.,2],[3,4]]\n",
    "tf.reduce_sum(x, axis = 0).eval()"
   ]
  },
  {
   "cell_type": "code",
   "execution_count": 27,
   "metadata": {},
   "outputs": [
    {
     "data": {
      "text/plain": [
       "array([3., 7.], dtype=float32)"
      ]
     },
     "execution_count": 27,
     "metadata": {},
     "output_type": "execute_result"
    }
   ],
   "source": [
    "x = [[1.,2],[3,4]]\n",
    "tf.reduce_sum(x, axis = 1).eval()"
   ]
  },
  {
   "cell_type": "code",
   "execution_count": 30,
   "metadata": {
    "scrolled": true
   },
   "outputs": [
    {
     "data": {
      "text/plain": [
       "5.0"
      ]
     },
     "execution_count": 30,
     "metadata": {},
     "output_type": "execute_result"
    }
   ],
   "source": [
    "tf.reduce_mean(tf.reduce_sum(x, axis = 1).eval()).eval()"
   ]
  },
  {
   "cell_type": "code",
   "execution_count": 31,
   "metadata": {},
   "outputs": [],
   "source": [
    "# time series(시계열 분석 흐름) -->  axis = 0\n",
    "# 크로스섹셔널 --> axis = 1\n",
    "# axis를 조절해가면서 내가 보고싶은 insight"
   ]
  },
  {
   "cell_type": "code",
   "execution_count": 33,
   "metadata": {},
   "outputs": [],
   "source": [
    "# argmax 가장 큰 값의 index를 뽑아내기"
   ]
  },
  {
   "cell_type": "code",
   "execution_count": 32,
   "metadata": {},
   "outputs": [
    {
     "data": {
      "text/plain": [
       "array([1, 1, 1], dtype=int64)"
      ]
     },
     "execution_count": 32,
     "metadata": {},
     "output_type": "execute_result"
    }
   ],
   "source": [
    "x = [[0,1,2,],\n",
    "     [3,4,5]]\n",
    "tf.argmax(x, axis = 0).eval()\n",
    "# axis를 기준으로 비교해서 가장 큰 index를 반환해준다.\n",
    "# 사례로 들면 수익률이 상위 10%이 들 확률이 주어진다. 총 10개의 확률값이 주어진다. \n",
    "# 2000개의 기업을 볼 수 없다."
   ]
  },
  {
   "cell_type": "code",
   "execution_count": null,
   "metadata": {},
   "outputs": [],
   "source": [
    "# reshape을 하고 싶다면? tf.reshaped()"
   ]
  },
  {
   "cell_type": "code",
   "execution_count": 34,
   "metadata": {},
   "outputs": [
    {
     "data": {
      "text/plain": [
       "array([[1, 2, 3],\n",
       "       [4, 5, 6],\n",
       "       [7, 8, 9]])"
      ]
     },
     "execution_count": 34,
     "metadata": {},
     "output_type": "execute_result"
    }
   ],
   "source": [
    "x = [1,2,3,4,5,6,7,8,9]\n",
    "tf.reshape(x,[3,3]).eval()\n",
    "# 사진 이미지가 쭉 숫자로 되어 있는 걸 28,28로 나타내는 것이 그림판이다. \n",
    "# 이미지처리할떄 굉장히 많이 사용한다. "
   ]
  },
  {
   "cell_type": "code",
   "execution_count": 42,
   "metadata": {},
   "outputs": [],
   "source": [
    "# tf.one_hot()"
   ]
  },
  {
   "cell_type": "code",
   "execution_count": 37,
   "metadata": {},
   "outputs": [],
   "source": [
    "t = tf.one_hot([[0],[1],[2],[3]], depth = 4).eval()\n",
    "# 하나는 0을 넣고 나머지는 1을 넣어라 \n",
    "# 나중에 분류할때 이거는 1번클래스야 2번클래스야가 아니라\n",
    "# one_hot인코딩으로 나누는 것이다. \n",
    "# 2차원을 주면 3차원을 넣어준다. "
   ]
  },
  {
   "cell_type": "code",
   "execution_count": 40,
   "metadata": {},
   "outputs": [],
   "source": [
    "# tf.reshape(t,[-1,4]).eval() 한차원을 빼주는 방법"
   ]
  },
  {
   "cell_type": "code",
   "execution_count": 39,
   "metadata": {},
   "outputs": [],
   "source": [
    "t = tf.reshape(t,[-1,4]).eval()"
   ]
  },
  {
   "cell_type": "code",
   "execution_count": 43,
   "metadata": {},
   "outputs": [
    {
     "name": "stderr",
     "output_type": "stream",
     "text": [
      "c:\\anaconda3\\envs\\tensorflow2\\lib\\site-packages\\tensorflow\\python\\client\\session.py:1645: UserWarning: An interactive session is already active. This can cause out-of-memory errors in some cases. You must explicitly call `InteractiveSession.close()` to release resources held by the other session(s).\n",
      "  warnings.warn('An interactive session is already active. This can '\n"
     ]
    },
    {
     "data": {
      "text/plain": [
       "array([[1., 0., 0., 0.],\n",
       "       [0., 1., 0., 0.],\n",
       "       [0., 0., 1., 0.],\n",
       "       [0., 0., 0., 1.]], dtype=float32)"
      ]
     },
     "execution_count": 43,
     "metadata": {},
     "output_type": "execute_result"
    }
   ],
   "source": [
    "sess = tf.InteractiveSession()\n",
    "a = tf.one_hot([[0],[1],[2],[3]],depth = 4).eval()\n",
    "tf.reshape(a, shape=[-1,4]).eval()\n"
   ]
  },
  {
   "cell_type": "code",
   "execution_count": 44,
   "metadata": {},
   "outputs": [],
   "source": [
    "# 타입 변경 - tf.cast(데이터, 변환타입)"
   ]
  },
  {
   "cell_type": "code",
   "execution_count": 45,
   "metadata": {},
   "outputs": [
    {
     "data": {
      "text/plain": [
       "array([  1,   3,   3, 309])"
      ]
     },
     "execution_count": 45,
     "metadata": {},
     "output_type": "execute_result"
    }
   ],
   "source": [
    "tf.cast([1.8,3.9,3.02,309.3], tf.int32).eval()"
   ]
  },
  {
   "cell_type": "code",
   "execution_count": 46,
   "metadata": {},
   "outputs": [
    {
     "data": {
      "text/plain": [
       "0.5"
      ]
     },
     "execution_count": 46,
     "metadata": {},
     "output_type": "execute_result"
    }
   ],
   "source": [
    "a = tf.cast([True, False, 1==1, 1!=1], tf.float32).eval()\n",
    "tf.reduce_mean(a).eval()"
   ]
  },
  {
   "cell_type": "code",
   "execution_count": 47,
   "metadata": {},
   "outputs": [],
   "source": [
    "# 불리언 타입을 숫자형식으로 하는게 더 좋다. \n",
    "# 그걸 1과 0으로 변환하고 1을 다 더하고 전체갯수로 나누면 accuracy를 구할 수 있다. \n",
    "# 불리언 캐스팅하고 이거 리듀스 mean하면 평균값이 나온다."
   ]
  },
  {
   "cell_type": "code",
   "execution_count": 48,
   "metadata": {},
   "outputs": [],
   "source": [
    "# 차원 stack하기 - tf.stack([x,y,z])  기본적으로 vertical"
   ]
  },
  {
   "cell_type": "code",
   "execution_count": 49,
   "metadata": {},
   "outputs": [
    {
     "data": {
      "text/plain": [
       "array([[1, 4],\n",
       "       [2, 5],\n",
       "       [3, 6]])"
      ]
     },
     "execution_count": 49,
     "metadata": {},
     "output_type": "execute_result"
    }
   ],
   "source": [
    "x = [1,4]\n",
    "y = [2,5]\n",
    "z = [3,6]\n",
    "tf.stack([x,y,z]).eval()"
   ]
  },
  {
   "cell_type": "code",
   "execution_count": 50,
   "metadata": {},
   "outputs": [],
   "source": [
    "# tf.ones_like(x) 하면 x와 똑같은shape에 1로 채워진 것이 채워진다.\n",
    "# tf.zeros_like(x) 하면 x와 똑같은shape에 0로 채워진 것이 채워진다."
   ]
  },
  {
   "cell_type": "code",
   "execution_count": 58,
   "metadata": {},
   "outputs": [
    {
     "ename": "TypeError",
     "evalue": "list indices must be integers or slices, not tuple",
     "output_type": "error",
     "traceback": [
      "\u001b[1;31m---------------------------------------------------------------------------\u001b[0m",
      "\u001b[1;31mTypeError\u001b[0m                                 Traceback (most recent call last)",
      "\u001b[1;32m<ipython-input-58-298ea22cca59>\u001b[0m in \u001b[0;36m<module>\u001b[1;34m\u001b[0m\n\u001b[0;32m      3\u001b[0m \u001b[0mtf\u001b[0m\u001b[1;33m.\u001b[0m\u001b[0mzeros_like\u001b[0m\u001b[1;33m(\u001b[0m\u001b[0mx\u001b[0m\u001b[1;33m)\u001b[0m\u001b[1;33m.\u001b[0m\u001b[0meval\u001b[0m\u001b[1;33m(\u001b[0m\u001b[1;33m)\u001b[0m\u001b[1;33m\u001b[0m\u001b[0m\n\u001b[0;32m      4\u001b[0m \u001b[0mtf\u001b[0m\u001b[1;33m.\u001b[0m\u001b[0mshape\u001b[0m\u001b[1;33m(\u001b[0m\u001b[0mx\u001b[0m\u001b[1;33m)\u001b[0m\u001b[1;33m.\u001b[0m\u001b[0meval\u001b[0m\u001b[1;33m(\u001b[0m\u001b[1;33m)\u001b[0m\u001b[1;33m\u001b[0m\u001b[0m\n\u001b[1;32m----> 5\u001b[1;33m \u001b[0mprint\u001b[0m\u001b[1;33m(\u001b[0m\u001b[0mx\u001b[0m\u001b[1;33m[\u001b[0m\u001b[1;33m:\u001b[0m\u001b[1;33m,\u001b[0m\u001b[1;36m2\u001b[0m\u001b[1;33m:\u001b[0m\u001b[1;33m]\u001b[0m\u001b[1;33m)\u001b[0m\u001b[1;33m\u001b[0m\u001b[0m\n\u001b[0m",
      "\u001b[1;31mTypeError\u001b[0m: list indices must be integers or slices, not tuple"
     ]
    }
   ],
   "source": [
    "x = [[1,2,3],[4,5,6],[7,8,9]]\n",
    "tf.ones_like(x).eval()\n",
    "tf.zeros_like(x).eval()\n",
    "tf.shape(x).eval()\n"
   ]
  },
  {
   "cell_type": "code",
   "execution_count": 60,
   "metadata": {},
   "outputs": [
    {
     "ename": "TypeError",
     "evalue": "list indices must be integers or slices, not tuple",
     "output_type": "error",
     "traceback": [
      "\u001b[1;31m---------------------------------------------------------------------------\u001b[0m",
      "\u001b[1;31mTypeError\u001b[0m                                 Traceback (most recent call last)",
      "\u001b[1;32m<ipython-input-60-5e0b13c1e19b>\u001b[0m in \u001b[0;36m<module>\u001b[1;34m\u001b[0m\n\u001b[0;32m      1\u001b[0m \u001b[0mx\u001b[0m \u001b[1;33m=\u001b[0m \u001b[1;33m[\u001b[0m\u001b[1;33m[\u001b[0m\u001b[1;36m1\u001b[0m\u001b[1;33m,\u001b[0m\u001b[1;36m2\u001b[0m\u001b[1;33m,\u001b[0m\u001b[1;36m3\u001b[0m\u001b[1;33m]\u001b[0m\u001b[1;33m,\u001b[0m\u001b[1;33m[\u001b[0m\u001b[1;36m4\u001b[0m\u001b[1;33m,\u001b[0m\u001b[1;36m5\u001b[0m\u001b[1;33m,\u001b[0m\u001b[1;36m6\u001b[0m\u001b[1;33m]\u001b[0m\u001b[1;33m,\u001b[0m\u001b[1;33m[\u001b[0m\u001b[1;36m7\u001b[0m\u001b[1;33m,\u001b[0m\u001b[1;36m8\u001b[0m\u001b[1;33m,\u001b[0m\u001b[1;36m9\u001b[0m\u001b[1;33m]\u001b[0m\u001b[1;33m]\u001b[0m\u001b[1;33m\u001b[0m\u001b[0m\n\u001b[1;32m----> 2\u001b[1;33m \u001b[0mprint\u001b[0m\u001b[1;33m(\u001b[0m\u001b[0mx\u001b[0m\u001b[1;33m[\u001b[0m\u001b[1;33m:\u001b[0m\u001b[1;33m,\u001b[0m\u001b[1;36m2\u001b[0m\u001b[1;33m:\u001b[0m\u001b[1;33m]\u001b[0m\u001b[1;33m)\u001b[0m\u001b[1;33m\u001b[0m\u001b[0m\n\u001b[0m",
      "\u001b[1;31mTypeError\u001b[0m: list indices must be integers or slices, not tuple"
     ]
    }
   ],
   "source": []
  },
  {
   "cell_type": "code",
   "execution_count": null,
   "metadata": {},
   "outputs": [],
   "source": []
  }
 ],
 "metadata": {
  "kernelspec": {
   "display_name": "Python 3",
   "language": "python",
   "name": "python3"
  },
  "language_info": {
   "codemirror_mode": {
    "name": "ipython",
    "version": 3
   },
   "file_extension": ".py",
   "mimetype": "text/x-python",
   "name": "python",
   "nbconvert_exporter": "python",
   "pygments_lexer": "ipython3",
   "version": "3.6.5"
  }
 },
 "nbformat": 4,
 "nbformat_minor": 2
}

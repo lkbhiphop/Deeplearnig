{
 "cells": [
  {
   "cell_type": "code",
   "execution_count": 2,
   "metadata": {},
   "outputs": [
    {
     "name": "stderr",
     "output_type": "stream",
     "text": [
      "C:\\Anaconda3\\lib\\site-packages\\h5py\\__init__.py:36: FutureWarning: Conversion of the second argument of issubdtype from `float` to `np.floating` is deprecated. In future, it will be treated as `np.float64 == np.dtype(float).type`.\n",
      "  from ._conv import register_converters as _register_converters\n"
     ]
    }
   ],
   "source": [
    "import tensorflow as tf\n",
    "import numpy as np\n"
   ]
  },
  {
   "cell_type": "code",
   "execution_count": 12,
   "metadata": {},
   "outputs": [
    {
     "name": "stdout",
     "output_type": "stream",
     "text": [
      "Step 0 Cost: nan\n",
      "Step 100 Cost: nan\n",
      "Step 200 Cost: nan\n",
      "Step 300 Cost: nan\n",
      "Step 400 Cost: nan\n",
      "Step 500 Cost: nan\n",
      "Step 600 Cost: nan\n",
      "Step 700 Cost: nan\n",
      "Step 800 Cost: nan\n",
      "Step 900 Cost: nan\n",
      "Step 1000 Cost: nan\n",
      "Step 1100 Cost: nan\n",
      "Step 1200 Cost: nan\n",
      "Step 1300 Cost: nan\n",
      "Step 1400 Cost: nan\n",
      "Step 1500 Cost: nan\n",
      "Step 1600 Cost: nan\n",
      "Step 1700 Cost: nan\n",
      "Step 1800 Cost: nan\n",
      "Step 1900 Cost: nan\n"
     ]
    }
   ],
   "source": [
    "x_data = [[1,2,35,48],\n",
    "          [4,2,34,49],\n",
    "          [6,2,32,46],\n",
    "          [16,5,3,41],\n",
    "          [7,45,3,44],\n",
    "          [8,2,3,46]]\n",
    "y_data  = [[0,0,1],\n",
    "           [0,1,0],\n",
    "           [1,0,0],\n",
    "           [0,0,1],\n",
    "           [0,0,1],\n",
    "           [1,0,0]]\n",
    "\n",
    "X = tf.placeholder(tf.float32,shape = [None, 4])\n",
    "Y = tf.placeholder(tf.float32,shape = [None, 3])\n",
    "W = tf.Variable(tf.random_normal([4,3]))\n",
    "b = tf.Variable(tf.random_normal([3]))\n",
    "\n",
    "# 4.sigmoid 대신 --> nn.softmax 맥이기\n",
    "hypothesis = tf.nn.softmax(tf.matmul(X,W)+b) # 이렇게 하면 y예측값으로 [0.6,0.2,0.1....]\n",
    "cost = -tf.reduce_mean(tf.reduce_sum(Y * tf.log(hypothesis),axis = 1))\n",
    "optimizer = tf.train.GradientDescentOptimizer(learning_rate=1e-5)\n",
    "train = optimizer.minimize(cost)\n",
    "\n",
    "sess = tf.Session()\n",
    "sess.run(tf.global_variables_initializer())\n",
    "for step in range(2000):\n",
    "    c_v, _ = sess.run([cost,train], feed_dict = {X:x_data,Y:y_data})\n",
    "    if step % 100 == 0:\n",
    "        print(\"Step\",step,\"Cost:\",c_v)"
   ]
  },
  {
   "cell_type": "code",
   "execution_count": 14,
   "metadata": {},
   "outputs": [
    {
     "name": "stdout",
     "output_type": "stream",
     "text": [
      "[0]\n"
     ]
    }
   ],
   "source": [
    "result = sess.run(hypothesis, feed_dict = {X: [[1,2,3,1]]})\n",
    "print(sess.run(tf.argmax(result,1)))"
   ]
  },
  {
   "cell_type": "code",
   "execution_count": null,
   "metadata": {},
   "outputs": [],
   "source": [
    "# hypothesis에서 나온 값을 tf.argmax(result,1)하면 확인할 수 있다.\n",
    "# result axis = 1을 넣으면 안에서 제일 큰거를 찾게되는 것이다. "
   ]
  }
 ],
 "metadata": {
  "kernelspec": {
   "display_name": "Python 3",
   "language": "python",
   "name": "python3"
  },
  "language_info": {
   "codemirror_mode": {
    "name": "ipython",
    "version": 3
   },
   "file_extension": ".py",
   "mimetype": "text/x-python",
   "name": "python",
   "nbconvert_exporter": "python",
   "pygments_lexer": "ipython3",
   "version": "3.6.5"
  }
 },
 "nbformat": 4,
 "nbformat_minor": 2
}

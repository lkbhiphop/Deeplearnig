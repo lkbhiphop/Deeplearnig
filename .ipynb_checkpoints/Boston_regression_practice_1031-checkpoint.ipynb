{
 "cells": [
  {
   "cell_type": "code",
   "execution_count": 4,
   "metadata": {},
   "outputs": [],
   "source": [
    "import tensorflow as tf\n",
    "import numpy as np\n",
    "import pandas as pd"
   ]
  },
  {
   "cell_type": "code",
   "execution_count": 6,
   "metadata": {
    "scrolled": true
   },
   "outputs": [],
   "source": [
    "xy = np.loadtxt(\"boston_train.csv\",delimiter=\",\",dtype = np.float32)"
   ]
  },
  {
   "cell_type": "code",
   "execution_count": 8,
   "metadata": {},
   "outputs": [
    {
     "data": {
      "text/plain": [
       "(400, 10)"
      ]
     },
     "execution_count": 8,
     "metadata": {},
     "output_type": "execute_result"
    }
   ],
   "source": [
    "xy.shape"
   ]
  },
  {
   "cell_type": "code",
   "execution_count": 13,
   "metadata": {},
   "outputs": [
    {
     "data": {
      "text/plain": [
       "(320, 9)"
      ]
     },
     "execution_count": 13,
     "metadata": {},
     "output_type": "execute_result"
    }
   ],
   "source": [
    "x_train.shape"
   ]
  },
  {
   "cell_type": "code",
   "execution_count": 12,
   "metadata": {},
   "outputs": [],
   "source": [
    "x_train = xy[:320,:-1]\n",
    "y_train = xy[:320,[-1]]\n",
    "x_test = xy[320:,:-1]\n",
    "y_test = xy[320:,[-1]]"
   ]
  },
  {
   "cell_type": "code",
   "execution_count": 18,
   "metadata": {},
   "outputs": [],
   "source": [
    "# 2. placeholdder\n",
    "X = tf.placeholder(tf.float32,shape = [None,9])\n",
    "Y = tf.placeholder(tf.float32,shape = [None,1])\n",
    "# 3. variable 초기화\n",
    "W = tf.Variable(tf.random_normal([9,1]))\n",
    "b = tf.Variable(tf.random_normal([1]))\n",
    "# 4. hypothesis\n",
    "hypothesis = tf.matmul(X,W)+b\n",
    "# 5. cost(어떤식으로 오차 최소화)\n",
    "cost  = tf.reduce_mean(tf.square(hypothesis-y_train))\n",
    "# 6. 최적화방법\n",
    "optimizer = tf.train.GradientDescentOptimizer(learning_rate=1e-7)\n",
    "# 7. 그래프 그리기\n",
    "train = optimizer.minimize(cost)"
   ]
  },
  {
   "cell_type": "code",
   "execution_count": 28,
   "metadata": {
    "scrolled": true
   },
   "outputs": [
    {
     "name": "stdout",
     "output_type": "stream",
     "text": [
      "step: 0 c_v: 16201.331\n",
      "step: 100 c_v: 352.9021\n",
      "step: 200 c_v: 343.29266\n",
      "step: 300 c_v: 337.25464\n",
      "step: 400 c_v: 331.37698\n",
      "step: 500 c_v: 325.65457\n",
      "step: 600 c_v: 320.08316\n",
      "step: 700 c_v: 314.65884\n",
      "step: 800 c_v: 309.37738\n",
      "step: 900 c_v: 304.23492\n",
      "step: 1000 c_v: 299.2276\n",
      "step: 1100 c_v: 294.35138\n",
      "step: 1200 c_v: 289.6032\n",
      "step: 1300 c_v: 284.97952\n",
      "step: 1400 c_v: 280.47678\n",
      "step: 1500 c_v: 276.0918\n",
      "step: 1600 c_v: 271.82123\n",
      "step: 1700 c_v: 267.66214\n",
      "step: 1800 c_v: 263.6115\n",
      "step: 1900 c_v: 259.66635\n",
      "step: 2000 c_v: 255.82349\n",
      "step: 2100 c_v: 252.08032\n",
      "step: 2200 c_v: 248.43428\n",
      "step: 2300 c_v: 244.88261\n",
      "step: 2400 c_v: 241.42305\n",
      "step: 2500 c_v: 238.05289\n",
      "step: 2600 c_v: 234.76978\n",
      "step: 2700 c_v: 231.57126\n",
      "step: 2800 c_v: 228.45499\n",
      "step: 2900 c_v: 225.41858\n",
      "step: 3000 c_v: 222.46036\n",
      "step: 3100 c_v: 219.57796\n",
      "step: 3200 c_v: 216.76944\n",
      "step: 3300 c_v: 214.03275\n",
      "step: 3400 c_v: 211.36592\n",
      "step: 3500 c_v: 208.76718\n",
      "step: 3600 c_v: 206.23482\n",
      "step: 3700 c_v: 203.76689\n",
      "step: 3800 c_v: 201.36157\n",
      "step: 3900 c_v: 199.01701\n",
      "step: 4000 c_v: 196.73187\n",
      "step: 4100 c_v: 194.50468\n",
      "step: 4200 c_v: 192.33382\n",
      "step: 4300 c_v: 190.21768\n",
      "step: 4400 c_v: 188.15486\n",
      "step: 4500 c_v: 186.14395\n",
      "step: 4600 c_v: 184.18352\n",
      "step: 4700 c_v: 182.27235\n",
      "step: 4800 c_v: 180.40915\n",
      "step: 4900 c_v: 178.5924\n",
      "step: 5000 c_v: 176.82077\n",
      "step: 5100 c_v: 175.09326\n",
      "step: 5200 c_v: 173.40878\n",
      "step: 5300 c_v: 171.76622\n",
      "step: 5400 c_v: 170.16444\n",
      "step: 5500 c_v: 168.60234\n",
      "step: 5600 c_v: 167.07889\n",
      "step: 5700 c_v: 165.59296\n",
      "step: 5800 c_v: 164.14363\n",
      "step: 5900 c_v: 162.73006\n",
      "step: 6000 c_v: 161.35129\n",
      "step: 6100 c_v: 160.00626\n",
      "step: 6200 c_v: 158.6939\n",
      "step: 6300 c_v: 157.41353\n",
      "step: 6400 c_v: 156.1643\n",
      "step: 6500 c_v: 154.94547\n",
      "step: 6600 c_v: 153.7564\n",
      "step: 6700 c_v: 152.59612\n",
      "step: 6800 c_v: 151.46391\n",
      "step: 6900 c_v: 150.35905\n",
      "step: 7000 c_v: 149.2808\n",
      "step: 7100 c_v: 148.22842\n",
      "step: 7200 c_v: 147.20139\n",
      "step: 7300 c_v: 146.19905\n",
      "step: 7400 c_v: 145.22063\n",
      "step: 7500 c_v: 144.2656\n",
      "step: 7600 c_v: 143.33325\n",
      "step: 7700 c_v: 142.423\n",
      "step: 7800 c_v: 141.53404\n",
      "step: 7900 c_v: 140.66609\n",
      "step: 8000 c_v: 139.81873\n",
      "step: 8100 c_v: 138.99136\n",
      "step: 8200 c_v: 138.1834\n",
      "step: 8300 c_v: 137.39432\n",
      "step: 8400 c_v: 136.62369\n",
      "step: 8500 c_v: 135.87103\n",
      "step: 8600 c_v: 135.13583\n",
      "step: 8700 c_v: 134.41788\n",
      "step: 8800 c_v: 133.71652\n",
      "step: 8900 c_v: 133.03133\n",
      "step: 9000 c_v: 132.36191\n",
      "step: 9100 c_v: 131.70789\n",
      "step: 9200 c_v: 131.0688\n",
      "step: 9300 c_v: 130.44432\n",
      "step: 9400 c_v: 129.83415\n",
      "step: 9500 c_v: 129.23788\n",
      "step: 9600 c_v: 128.65515\n",
      "step: 9700 c_v: 128.0856\n",
      "step: 9800 c_v: 127.52881\n",
      "step: 9900 c_v: 126.98454\n",
      "step: 10000 c_v: 126.452515\n",
      "step: 10100 c_v: 125.9323\n",
      "step: 10200 c_v: 125.42342\n",
      "step: 10300 c_v: 124.9259\n",
      "step: 10400 c_v: 124.43938\n",
      "step: 10500 c_v: 123.96355\n",
      "step: 10600 c_v: 123.498215\n",
      "step: 10700 c_v: 123.043045\n",
      "step: 10800 c_v: 122.59778\n",
      "step: 10900 c_v: 122.16223\n",
      "step: 11000 c_v: 121.73618\n",
      "step: 11100 c_v: 121.319374\n",
      "step: 11200 c_v: 120.9116\n",
      "step: 11300 c_v: 120.51257\n",
      "step: 11400 c_v: 120.12205\n",
      "step: 11500 c_v: 119.739845\n",
      "step: 11600 c_v: 119.36577\n",
      "step: 11700 c_v: 118.99959\n",
      "step: 11800 c_v: 118.64111\n",
      "step: 11900 c_v: 118.29022\n",
      "step: 12000 c_v: 117.946754\n",
      "step: 12100 c_v: 117.61041\n",
      "step: 12200 c_v: 117.28109\n",
      "step: 12300 c_v: 116.95854\n",
      "step: 12400 c_v: 116.6426\n",
      "step: 12500 c_v: 116.33319\n",
      "step: 12600 c_v: 116.030075\n",
      "step: 12700 c_v: 115.73308\n",
      "step: 12800 c_v: 115.4421\n",
      "step: 12900 c_v: 115.15713\n",
      "step: 13000 c_v: 114.87787\n",
      "step: 13100 c_v: 114.60415\n",
      "step: 13200 c_v: 114.33594\n",
      "step: 13300 c_v: 114.07298\n",
      "step: 13400 c_v: 113.815186\n",
      "step: 13500 c_v: 113.56248\n",
      "step: 13600 c_v: 113.31468\n",
      "step: 13700 c_v: 113.07168\n",
      "step: 13800 c_v: 112.83335\n",
      "step: 13900 c_v: 112.59973\n",
      "step: 14000 c_v: 112.370605\n",
      "step: 14100 c_v: 112.14581\n",
      "step: 14200 c_v: 111.92527\n",
      "step: 14300 c_v: 111.70891\n",
      "step: 14400 c_v: 111.49658\n",
      "step: 14500 c_v: 111.28817\n",
      "step: 14600 c_v: 111.08364\n",
      "step: 14700 c_v: 110.88289\n",
      "step: 14800 c_v: 110.68579\n",
      "step: 14900 c_v: 110.49223\n",
      "step: 15000 c_v: 110.302345\n",
      "step: 15100 c_v: 110.11588\n",
      "step: 15200 c_v: 109.93272\n",
      "step: 15300 c_v: 109.75282\n",
      "step: 15400 c_v: 109.57615\n",
      "step: 15500 c_v: 109.40253\n",
      "step: 15600 c_v: 109.23193\n",
      "step: 15700 c_v: 109.064285\n",
      "step: 15800 c_v: 108.89956\n",
      "step: 15900 c_v: 108.73789\n",
      "step: 16000 c_v: 108.579025\n",
      "step: 16100 c_v: 108.422874\n",
      "step: 16200 c_v: 108.26943\n",
      "step: 16300 c_v: 108.118576\n",
      "step: 16400 c_v: 107.97024\n",
      "step: 16500 c_v: 107.824326\n",
      "step: 16600 c_v: 107.68081\n",
      "step: 16700 c_v: 107.53965\n",
      "step: 16800 c_v: 107.400734\n",
      "step: 16900 c_v: 107.264\n",
      "step: 17000 c_v: 107.12949\n",
      "step: 17100 c_v: 106.99709\n",
      "step: 17200 c_v: 106.866745\n",
      "step: 17300 c_v: 106.7384\n",
      "step: 17400 c_v: 106.61206\n",
      "step: 17500 c_v: 106.48767\n",
      "step: 17600 c_v: 106.36526\n",
      "step: 17700 c_v: 106.244675\n",
      "step: 17800 c_v: 106.1259\n",
      "step: 17900 c_v: 106.008896\n",
      "step: 18000 c_v: 105.8936\n",
      "step: 18100 c_v: 105.77997\n",
      "step: 18200 c_v: 105.667946\n",
      "step: 18300 c_v: 105.55758\n",
      "step: 18400 c_v: 105.44877\n",
      "step: 18500 c_v: 105.34147\n",
      "step: 18600 c_v: 105.23567\n",
      "step: 18700 c_v: 105.13129\n",
      "step: 18800 c_v: 105.02867\n",
      "step: 18900 c_v: 104.927505\n",
      "step: 19000 c_v: 104.82768\n",
      "step: 19100 c_v: 104.729294\n",
      "step: 19200 c_v: 104.632225\n",
      "step: 19300 c_v: 104.53646\n",
      "step: 19400 c_v: 104.44193\n",
      "step: 19500 c_v: 104.34859\n",
      "step: 19600 c_v: 104.25645\n",
      "step: 19700 c_v: 104.16543\n",
      "step: 19800 c_v: 104.07562\n",
      "step: 19900 c_v: 103.98689\n",
      "[[ 28.985073]\n",
      " [ 18.779757]\n",
      " [ 25.679043]\n",
      " [ 18.526155]\n",
      " [ 24.74264 ]\n",
      " [ 22.621069]\n",
      " [ 26.819311]\n",
      " [ 23.008295]\n",
      " [ 33.927105]\n",
      " [ 16.613398]\n",
      " [ 19.427603]\n",
      " [ 24.742992]\n",
      " [ 23.322203]\n",
      " [ 11.325572]\n",
      " [ 25.066166]\n",
      " [ 24.243792]\n",
      " [ 19.83802 ]\n",
      " [ 24.75926 ]\n",
      " [ 19.119501]\n",
      " [ 20.048212]\n",
      " [ 27.36637 ]\n",
      " [ 23.270395]\n",
      " [ 24.99348 ]\n",
      " [ 21.091654]\n",
      " [ 19.490023]\n",
      " [ 24.088682]\n",
      " [ 30.047625]\n",
      " [ 21.294413]\n",
      " [ 22.268839]\n",
      " [ 25.335953]\n",
      " [ 28.795145]\n",
      " [ 17.783266]\n",
      " [ 21.112856]\n",
      " [-25.975313]\n",
      " [ 25.449694]\n",
      " [ 19.165102]\n",
      " [ 22.450392]\n",
      " [ 22.718054]\n",
      " [ 25.715534]\n",
      " [ 21.574305]\n",
      " [ 13.630704]\n",
      " [ 23.928457]\n",
      " [ 23.608223]\n",
      " [ 28.793089]\n",
      " [ 25.38423 ]\n",
      " [ 26.478405]\n",
      " [ 19.208727]\n",
      " [ 24.776476]\n",
      " [ 26.374886]\n",
      " [ 30.857187]\n",
      " [ 26.033329]\n",
      " [ 22.455866]\n",
      " [ 16.396835]\n",
      " [ 26.836075]\n",
      " [ 21.251097]\n",
      " [ 24.292212]\n",
      " [ 24.194563]\n",
      " [ 25.999102]\n",
      " [ 29.968897]\n",
      " [ 25.576796]\n",
      " [ 23.95847 ]\n",
      " [ 31.337748]\n",
      " [ 19.287655]\n",
      " [ 31.307741]\n",
      " [ 23.947311]\n",
      " [ 10.975717]\n",
      " [ 13.228789]\n",
      " [ 16.670359]\n",
      " [ 15.34226 ]\n",
      " [ 23.771124]\n",
      " [ 25.343023]\n",
      " [ 24.61352 ]\n",
      " [ 13.134143]\n",
      " [ 19.094181]\n",
      " [ 21.59678 ]\n",
      " [ 22.863058]\n",
      " [ 17.830112]\n",
      " [ 23.699976]\n",
      " [ 21.168055]\n",
      " [ 13.818523]]\n"
     ]
    }
   ],
   "source": [
    "# 실행단계\n",
    "sess = tf.Session()\n",
    "sess.run(tf.global_variables_initializer())\n",
    "\n",
    "# 학습단계\n",
    "for step in range(20000):\n",
    "    c_v, _ = sess.run([cost, train],feed_dict = {X:x_train,Y:y_train})\n",
    "    if step % 100 == 0:\n",
    "            print(\"step:\", step, \"c_v:\", c_v)\n",
    "            \n",
    "prediction = sess.run(hypothesis, feed_dict = {X:x_test,Y:y_test})\n",
    "print(prediction)"
   ]
  },
  {
   "cell_type": "code",
   "execution_count": 23,
   "metadata": {
    "collapsed": true
   },
   "outputs": [
    {
     "data": {
      "text/plain": [
       "array([[50. ],\n",
       "       [20.6],\n",
       "       [17.1],\n",
       "       [22.6],\n",
       "       [20.6],\n",
       "       [27.5],\n",
       "       [36. ],\n",
       "       [ 8.5],\n",
       "       [18.9],\n",
       "       [19.3],\n",
       "       [29.6],\n",
       "       [44.8],\n",
       "       [15.1],\n",
       "       [11.9],\n",
       "       [38.7],\n",
       "       [33. ],\n",
       "       [21.4],\n",
       "       [50. ],\n",
       "       [25. ],\n",
       "       [21.8],\n",
       "       [30.8],\n",
       "       [20. ],\n",
       "       [30.5],\n",
       "       [24. ],\n",
       "       [11.8],\n",
       "       [22.2],\n",
       "       [20.6],\n",
       "       [14.5],\n",
       "       [16.2],\n",
       "       [23. ],\n",
       "       [28.5],\n",
       "       [11.7],\n",
       "       [21.2],\n",
       "       [ 5. ],\n",
       "       [17.7],\n",
       "       [35.1],\n",
       "       [22.6],\n",
       "       [18.5],\n",
       "       [18.5],\n",
       "       [17.2],\n",
       "       [20.1],\n",
       "       [24.5],\n",
       "       [20.4],\n",
       "       [30.3],\n",
       "       [15.2],\n",
       "       [19.3],\n",
       "       [15.7],\n",
       "       [21.9],\n",
       "       [34.9],\n",
       "       [24.7],\n",
       "       [22.3],\n",
       "       [33.1],\n",
       "       [24.6],\n",
       "       [19.5],\n",
       "       [21.5],\n",
       "       [24. ],\n",
       "       [14.3],\n",
       "       [14.5],\n",
       "       [44. ],\n",
       "       [29. ],\n",
       "       [23.8],\n",
       "       [34.9],\n",
       "       [22. ],\n",
       "       [32.9],\n",
       "       [41.7],\n",
       "       [ 8.8],\n",
       "       [17.9],\n",
       "       [21.4],\n",
       "       [24.1],\n",
       "       [45.4],\n",
       "       [20.1],\n",
       "       [15.6],\n",
       "       [13.8],\n",
       "       [15.6],\n",
       "       [23.3],\n",
       "       [21.2],\n",
       "       [23.3],\n",
       "       [13.2],\n",
       "       [11. ],\n",
       "       [25.3]], dtype=float32)"
      ]
     },
     "execution_count": 23,
     "metadata": {},
     "output_type": "execute_result"
    }
   ],
   "source": [
    "y_test"
   ]
  },
  {
   "cell_type": "code",
   "execution_count": 24,
   "metadata": {
    "collapsed": true
   },
   "outputs": [
    {
     "data": {
      "text/plain": [
       "array([[ 30.64859   ],\n",
       "       [ 19.651173  ],\n",
       "       [ -1.0691751 ],\n",
       "       [ 40.21445   ],\n",
       "       [ -1.8287486 ],\n",
       "       [ 26.180372  ],\n",
       "       [ 37.328373  ],\n",
       "       [ 27.822363  ],\n",
       "       [ 42.403988  ],\n",
       "       [ 13.371308  ],\n",
       "       [ 19.281588  ],\n",
       "       [ 32.69662   ],\n",
       "       [ 27.763964  ],\n",
       "       [ 20.309591  ],\n",
       "       [ 39.80485   ],\n",
       "       [ 33.136475  ],\n",
       "       [ 12.577636  ],\n",
       "       [ 28.86997   ],\n",
       "       [-10.980601  ],\n",
       "       [ 18.513105  ],\n",
       "       [ 21.098713  ],\n",
       "       [ 18.232527  ],\n",
       "       [ 35.77346   ],\n",
       "       [ 28.112352  ],\n",
       "       [ -0.11251676],\n",
       "       [ 27.120586  ],\n",
       "       [ 30.445496  ],\n",
       "       [ 25.046778  ],\n",
       "       [ 19.202097  ],\n",
       "       [ -1.4408182 ],\n",
       "       [ 15.321517  ],\n",
       "       [ 23.978472  ],\n",
       "       [ 20.674818  ],\n",
       "       [ -3.5749373 ],\n",
       "       [ 28.116488  ],\n",
       "       [ 21.701262  ],\n",
       "       [ 34.947636  ],\n",
       "       [ 24.994389  ],\n",
       "       [ 30.617163  ],\n",
       "       [ 35.54361   ],\n",
       "       [ 16.558     ],\n",
       "       [ 27.15429   ],\n",
       "       [ 30.123407  ],\n",
       "       [ 33.69948   ],\n",
       "       [ 29.253489  ],\n",
       "       [ 33.723312  ],\n",
       "       [-37.484505  ],\n",
       "       [ 28.06143   ],\n",
       "       [ 37.971626  ],\n",
       "       [ 34.47688   ],\n",
       "       [ 22.29351   ],\n",
       "       [ 13.796391  ],\n",
       "       [ 14.06384   ],\n",
       "       [ 34.532555  ],\n",
       "       [  1.0189224 ],\n",
       "       [ 38.88141   ],\n",
       "       [ -2.540092  ],\n",
       "       [ 29.496471  ],\n",
       "       [ 18.862476  ],\n",
       "       [ 30.065779  ],\n",
       "       [ 21.520086  ],\n",
       "       [ 36.44588   ],\n",
       "       [ 23.21831   ],\n",
       "       [ 36.28053   ],\n",
       "       [ 31.45398   ],\n",
       "       [ 19.123648  ],\n",
       "       [ 21.402426  ],\n",
       "       [ 22.344442  ],\n",
       "       [  5.2804403 ],\n",
       "       [ 28.32789   ],\n",
       "       [ 29.423893  ],\n",
       "       [ -1.9047083 ],\n",
       "       [ 21.497587  ],\n",
       "       [ -0.08080518],\n",
       "       [ 21.30373   ],\n",
       "       [ 26.319984  ],\n",
       "       [ -0.17673576],\n",
       "       [ 25.994316  ],\n",
       "       [ 24.224848  ],\n",
       "       [  8.399085  ]], dtype=float32)"
      ]
     },
     "execution_count": 24,
     "metadata": {},
     "output_type": "execute_result"
    }
   ],
   "source": [
    "prediction"
   ]
  },
  {
   "cell_type": "code",
   "execution_count": 29,
   "metadata": {
    "scrolled": true
   },
   "outputs": [
    {
     "data": {
      "text/plain": [
       "9.206377"
      ]
     },
     "execution_count": 29,
     "metadata": {},
     "output_type": "execute_result"
    }
   ],
   "source": [
    "np.sqrt(np.mean((prediction - y_test)**2))"
   ]
  },
  {
   "cell_type": "code",
   "execution_count": null,
   "metadata": {},
   "outputs": [],
   "source": [
    "#ROC 커브\n",
    "#RMSE\n",
    "#minmaxscalar\n"
   ]
  },
  {
   "cell_type": "code",
   "execution_count": 30,
   "metadata": {},
   "outputs": [],
   "source": [
    "test_data = np.loadtxt(\"boston_test.csv\",delimiter=\",\",dtype = np.float32)"
   ]
  },
  {
   "cell_type": "code",
   "execution_count": 31,
   "metadata": {},
   "outputs": [
    {
     "data": {
      "text/plain": [
       "(100, 10)"
      ]
     },
     "execution_count": 31,
     "metadata": {},
     "output_type": "execute_result"
    }
   ],
   "source": [
    "test_data.shape"
   ]
  },
  {
   "cell_type": "code",
   "execution_count": 32,
   "metadata": {},
   "outputs": [],
   "source": [
    "x_real = test_data[:,:-1]\n",
    "y_real = test_data[:,[-1]]"
   ]
  },
  {
   "cell_type": "code",
   "execution_count": null,
   "metadata": {},
   "outputs": [],
   "source": [
    "# early_Stopping \n",
    "# 학습을 하다보면 내가 정한 기준치 이하로 하면 stop한다. \n",
    "# over_fitting으로 멈춰야한다. \n"
   ]
  },
  {
   "cell_type": "code",
   "execution_count": 33,
   "metadata": {},
   "outputs": [],
   "source": [
    "prediction_test= sess.run(hypothesis, feed_dict={X:x_real,Y:y_real})"
   ]
  },
  {
   "cell_type": "code",
   "execution_count": 34,
   "metadata": {},
   "outputs": [
    {
     "data": {
      "text/plain": [
       "7.2280326"
      ]
     },
     "execution_count": 34,
     "metadata": {},
     "output_type": "execute_result"
    }
   ],
   "source": [
    "np.sqrt(np.mean((prediction_test - y_real)**2))"
   ]
  },
  {
   "cell_type": "code",
   "execution_count": null,
   "metadata": {},
   "outputs": [],
   "source": []
  }
 ],
 "metadata": {
  "kernelspec": {
   "display_name": "Python 3",
   "language": "python",
   "name": "python3"
  },
  "language_info": {
   "codemirror_mode": {
    "name": "ipython",
    "version": 3
   },
   "file_extension": ".py",
   "mimetype": "text/x-python",
   "name": "python",
   "nbconvert_exporter": "python",
   "pygments_lexer": "ipython3",
   "version": "3.6.5"
  }
 },
 "nbformat": 4,
 "nbformat_minor": 2
}

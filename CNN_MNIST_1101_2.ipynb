{
 "cells": [
  {
   "cell_type": "code",
   "execution_count": 1,
   "metadata": {
    "scrolled": true
   },
   "outputs": [
    {
     "name": "stderr",
     "output_type": "stream",
     "text": [
      "C:\\Anaconda3\\lib\\site-packages\\h5py\\__init__.py:36: FutureWarning: Conversion of the second argument of issubdtype from `float` to `np.floating` is deprecated. In future, it will be treated as `np.float64 == np.dtype(float).type`.\n",
      "  from ._conv import register_converters as _register_converters\n"
     ]
    },
    {
     "name": "stdout",
     "output_type": "stream",
     "text": [
      "WARNING:tensorflow:From <ipython-input-1-f86d55189bac>:5: read_data_sets (from tensorflow.contrib.learn.python.learn.datasets.mnist) is deprecated and will be removed in a future version.\n",
      "Instructions for updating:\n",
      "Please use alternatives such as official/mnist/dataset.py from tensorflow/models.\n",
      "WARNING:tensorflow:From C:\\Anaconda3\\lib\\site-packages\\tensorflow\\contrib\\learn\\python\\learn\\datasets\\mnist.py:260: maybe_download (from tensorflow.contrib.learn.python.learn.datasets.base) is deprecated and will be removed in a future version.\n",
      "Instructions for updating:\n",
      "Please write your own downloading logic.\n",
      "WARNING:tensorflow:From C:\\Anaconda3\\lib\\site-packages\\tensorflow\\contrib\\learn\\python\\learn\\datasets\\mnist.py:262: extract_images (from tensorflow.contrib.learn.python.learn.datasets.mnist) is deprecated and will be removed in a future version.\n",
      "Instructions for updating:\n",
      "Please use tf.data to implement this functionality.\n",
      "Extracting MNIST_data/train-images-idx3-ubyte.gz\n",
      "WARNING:tensorflow:From C:\\Anaconda3\\lib\\site-packages\\tensorflow\\contrib\\learn\\python\\learn\\datasets\\mnist.py:267: extract_labels (from tensorflow.contrib.learn.python.learn.datasets.mnist) is deprecated and will be removed in a future version.\n",
      "Instructions for updating:\n",
      "Please use tf.data to implement this functionality.\n",
      "Extracting MNIST_data/train-labels-idx1-ubyte.gz\n",
      "WARNING:tensorflow:From C:\\Anaconda3\\lib\\site-packages\\tensorflow\\contrib\\learn\\python\\learn\\datasets\\mnist.py:110: dense_to_one_hot (from tensorflow.contrib.learn.python.learn.datasets.mnist) is deprecated and will be removed in a future version.\n",
      "Instructions for updating:\n",
      "Please use tf.one_hot on tensors.\n",
      "Extracting MNIST_data/t10k-images-idx3-ubyte.gz\n",
      "Extracting MNIST_data/t10k-labels-idx1-ubyte.gz\n",
      "WARNING:tensorflow:From C:\\Anaconda3\\lib\\site-packages\\tensorflow\\contrib\\learn\\python\\learn\\datasets\\mnist.py:290: DataSet.__init__ (from tensorflow.contrib.learn.python.learn.datasets.mnist) is deprecated and will be removed in a future version.\n",
      "Instructions for updating:\n",
      "Please use alternatives such as official/mnist/dataset.py from tensorflow/models.\n"
     ]
    }
   ],
   "source": [
    "import tensorflow as tf\n",
    "import numpy as np\n",
    "import matplotlib.pyplot as plt\n",
    "from tensorflow.examples.tutorials.mnist import input_data\n",
    "mnist = input_data.read_data_sets(\"MNIST_data/\",one_hot = True)"
   ]
  },
  {
   "cell_type": "code",
   "execution_count": 2,
   "metadata": {},
   "outputs": [],
   "source": [
    "learning_rate = 0.001\n",
    "trining_epoch = 15\n",
    "batch_size = 100"
   ]
  },
  {
   "cell_type": "code",
   "execution_count": 3,
   "metadata": {},
   "outputs": [
    {
     "name": "stdout",
     "output_type": "stream",
     "text": [
      "WARNING:tensorflow:From <ipython-input-3-ba98981a7c2d>:45: softmax_cross_entropy_with_logits (from tensorflow.python.ops.nn_ops) is deprecated and will be removed in a future version.\n",
      "Instructions for updating:\n",
      "\n",
      "Future major versions of TensorFlow will allow gradients to flow\n",
      "into the labels input on backprop by default.\n",
      "\n",
      "See `tf.nn.softmax_cross_entropy_with_logits_v2`.\n",
      "\n"
     ]
    }
   ],
   "source": [
    "X = tf.placeholder(tf.float32,shape = [None, 784])\n",
    "Y = tf.placeholder(tf.float32,shape = [None, 10])\n",
    "\n",
    "\n",
    "# convolutinoal을 사용하고 싶으면 x_image로 reshpae을 하는 단계를 꼭 거쳐야한다.\n",
    "X_img = tf.reshape(X, [-1,28,28,1]) # 여기서 -1 은 None과 같다.\n",
    "\n",
    "#필터갯수를 정해주는 것이다 (W1은) \n",
    "# 필터의 weight를 초기화할때 sigma값을 작게줘서 그 범위를 줄여서 랜덤값의 서로 다른 정도를 줄인다. \n",
    "W1 = tf.Variable(tf.random_normal([3,3,1,32],stddev = 0.01))\n",
    "L1 = tf.nn.conv2d(X_img, W1, strides = [1,1,1,1],padding = \"SAME\")\n",
    "# 결과값 L1 image --> -1 * 28 * 28 * 32\n",
    "# -1 = None = n개\n",
    "\n",
    "# Relu층\n",
    "L1 = tf.nn.relu(L1)\n",
    "\n",
    "# Pooling 층\n",
    "L1 = tf.nn.max_pool(L1,ksize = [1,2,2,1], strides = [1,2,2,1], padding= \"SAME\") # strides가 1을 기준으로 ZEROPADDING하고 POOLING한다.\n",
    "# 절반으로 줄이는 방법 - strides = [1,2,2,1], padding= \"SAME\"\n",
    "# 나머지가 없으면 zeropadding에서 추가하지 않는다\n",
    "# 시계방향해서 가로 , 세로\n",
    "\n",
    "# L1 = -1 * 14 * 14 * 32\n",
    "\n",
    "W2 =  tf.Variable(tf.random_normal([3,3,32,64],stddev = 0.01))\n",
    "# [3,3,32,64]에서 32는 앞의 과정에서 ouput depth이자 input depth이므로 depth가 같아야한다. \n",
    "L2 = tf.nn.conv2d(L1, W2, strides = [1,1,1,1],padding = \"SAME\")\n",
    "# L2 = -1 * 14 * 14 * 64\n",
    "\n",
    "# Relu층\n",
    "L2 = tf.nn.relu(L2)\n",
    "\n",
    "# Pooling층\n",
    "L2 = tf.nn.max_pool(L2,ksize = [1,2,2,1], strides = [1,2,2,1], padding= \"SAME\")\n",
    "# L2 = -1 * 7 * 7 * 64\n",
    "\n",
    "# full connected를 위해서는 flat(하나의 벡터로 바꿔줘야한다.)\n",
    "L2_flat = tf.reshape(L2, [-1, 7*7*64])\n",
    "\n",
    "# 모든 layer를 받고 이를 계산할 수 잇는 weight의 shape은 위의 reshape한거, label의 갯수\n",
    "W3 = tf.get_variable(\"W3\", shape = [7*7*64,10])\n",
    "logits = tf.matmul(L2_flat,W3)\n",
    "\n",
    "hypothesis = tf.nn.softmax(logits)\n",
    "cost = tf.reduce_mean(tf.nn.softmax_cross_entropy_with_logits(logits = logits, labels=Y))\n",
    "optimizer = tf.train.AdamOptimizer(learning_rate = learning_rate)\n",
    "train = optimizer.minimize(cost)"
   ]
  },
  {
   "cell_type": "code",
   "execution_count": 4,
   "metadata": {
    "scrolled": true
   },
   "outputs": [
    {
     "name": "stdout",
     "output_type": "stream",
     "text": [
      "Epoch 0 Cost 0.2972486854005945\n",
      "Epoch 1 Cost 0.09225254363126362\n",
      "Epoch 2 Cost 0.07136099373921759\n",
      "Epoch 3 Cost 0.057548705363138115\n",
      "Epoch 4 Cost 0.05210557778027243\n",
      "Epoch 5 Cost 0.04354578142795206\n",
      "Epoch 6 Cost 0.039578057710419966\n",
      "Epoch 7 Cost 0.034087156947405835\n",
      "Epoch 8 Cost 0.030138373713813362\n",
      "Epoch 9 Cost 0.027183885505020773\n",
      "Epoch 10 Cost 0.02331598669930826\n",
      "Epoch 11 Cost 0.02101135426095093\n",
      "Epoch 12 Cost 0.01850028608925641\n",
      "Epoch 13 Cost 0.016360931184449735\n",
      "Epoch 14 Cost 0.014985771152185563\n"
     ]
    }
   ],
   "source": [
    "sess = tf.Session()\n",
    "sess.run(tf.global_variables_initializer())\n",
    "for epoch in range(trining_epoch):\n",
    "    total_batch = int(mnist.train.num_examples/batch_size)\n",
    "    avg_cost = 0\n",
    "    for i in range(total_batch):\n",
    "        batch_xs, batch_ys = mnist.train.next_batch(batch_size)\n",
    "        # slicing을 해서 x데이터와 y데이터를 나눠서 반환해준다.\n",
    "        c, _ = sess.run([cost,train], feed_dict = {X:batch_xs,Y:batch_ys})\n",
    "        avg_cost += c/total_batch\n",
    "        # cost를 다 더해서 total_Batch로 나눈것과 같은 효과\n",
    "    print(\"Epoch\",epoch, \"Cost\",avg_cost )"
   ]
  },
  {
   "cell_type": "code",
   "execution_count": 7,
   "metadata": {},
   "outputs": [],
   "source": [
    "x_test = mnist.test.images\n",
    "y_test = mnist.test.labels"
   ]
  },
  {
   "cell_type": "code",
   "execution_count": 9,
   "metadata": {},
   "outputs": [
    {
     "data": {
      "text/plain": [
       "0.9875"
      ]
     },
     "execution_count": 9,
     "metadata": {},
     "output_type": "execute_result"
    }
   ],
   "source": [
    "is_correct = tf.equal(tf.argmax(hypothesis,1),tf.argmax(Y,1))\n",
    "# hypothesis(예측값) 중 가장 큰 값의 index를 뽑아내는 것\n",
    "accuracy = tf.reduce_mean(tf.cast(is_correct, tf.float32))\n",
    "sess.run(accuracy, feed_dict={X:x_test,Y:y_test})\n",
    "# accuracy할때는 1을 넣어야한다."
   ]
  },
  {
   "cell_type": "code",
   "execution_count": null,
   "metadata": {},
   "outputs": [],
   "source": []
  }
 ],
 "metadata": {
  "kernelspec": {
   "display_name": "Python 3",
   "language": "python",
   "name": "python3"
  },
  "language_info": {
   "codemirror_mode": {
    "name": "ipython",
    "version": 3
   },
   "file_extension": ".py",
   "mimetype": "text/x-python",
   "name": "python",
   "nbconvert_exporter": "python",
   "pygments_lexer": "ipython3",
   "version": "3.6.5"
  }
 },
 "nbformat": 4,
 "nbformat_minor": 2
}

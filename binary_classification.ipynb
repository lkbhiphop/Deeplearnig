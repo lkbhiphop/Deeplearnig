{
 "cells": [
  {
   "cell_type": "code",
   "execution_count": 1,
   "metadata": {},
   "outputs": [],
   "source": [
    "import tensorflow as tf\n",
    "import numpy as np"
   ]
  },
  {
   "cell_type": "code",
   "execution_count": 2,
   "metadata": {},
   "outputs": [],
   "source": [
    "x_data = [[1,2],[3,4],[5,6],[7,8]] # 4 * 2\n",
    "y_data = [[0],[1],[0],[1]] # 4 * 1"
   ]
  },
  {
   "cell_type": "code",
   "execution_count": 23,
   "metadata": {},
   "outputs": [],
   "source": [
    "X = tf.placeholder(tf.float32, shape = [None,2])\n",
    "Y = tf.placeholder(tf.float32, shape = [None,1])\n",
    "\n",
    "# W shape은 x_data와 곱해서 y_data shape이 나와야하는 shape이다!!!!!!!!!!\n",
    "W = tf.Variable(tf.random_normal([2,1]))\n",
    "b = tf.Variable(tf.random_normal([1]))\n",
    "\n",
    "hypothesis = tf.sigmoid(tf.matmul(X,W)+ b)\n",
    "# sigmoid의 결과는 0과 1사이의 값으로 만들어질 것이다. \n",
    "cost = tf.reduce_mean(tf.reduce_sum(Y * tf.log(hypothesis)+ (1-Y) * tf.log(1-hypothesis)))\n",
    "optimizer = tf.train.GradientDescentOptimizer(learning_rate=1e-5)\n",
    "train = optimizer.minimize(cost)\n",
    "# 분류 추가 단계\n",
    "# 0.5보다 큰\n",
    "predicted = tf.cast(hypothesis > 0.5, dtype = tf.float32)\n",
    "# [0.1,0.76,0.5,0.3]이라는 hypothesis를 0.5보다 큰지 boolean으로 바꾼 후에 cast해서 0과 1이라는 숫자로 바꾸는 것이다. \n",
    "accuracy = tf.reduce_mean(tf.cast(tf.equal(predicted, Y), dtype = tf.float32))\n",
    "# 예측값과 y실제값이 같은지 다른지 equal한다를 0과 1이라는 숫자로 바꾼 걸 1의갯수/전체 로 accuracy를 한다."
   ]
  },
  {
   "cell_type": "code",
   "execution_count": 14,
   "metadata": {
    "collapsed": true
   },
   "outputs": [
    {
     "name": "stdout",
     "output_type": "stream",
     "text": [
      "Step:  0 Cost: -3.080048 hy_v: [[0.4270674]\n",
      " [0.7010742]\n",
      " [0.8806566]\n",
      " [0.9587076]]\n",
      "Step:  100 Cost: -3.1161668 hy_v: [[0.43048623]\n",
      " [0.7074507 ]\n",
      " [0.88553643]\n",
      " [0.96116555]]\n",
      "Step:  200 Cost: -3.1535475 hy_v: [[0.43397108]\n",
      " [0.71385497]\n",
      " [0.8903215 ]\n",
      " [0.9635217 ]]\n",
      "Step:  300 Cost: -3.1921918 hy_v: [[0.43752062]\n",
      " [0.72027934]\n",
      " [0.89500594]\n",
      " [0.965776  ]]\n",
      "Step:  400 Cost: -3.2320995 hy_v: [[0.4411342]\n",
      " [0.7267167]\n",
      " [0.8995845]\n",
      " [0.9679289]]\n",
      "Step:  500 Cost: -3.273277 hy_v: [[0.44481248]\n",
      " [0.73316103]\n",
      " [0.90405303]\n",
      " [0.96998155]]\n",
      "Step:  600 Cost: -3.3157127 hy_v: [[0.4485522 ]\n",
      " [0.73960286]\n",
      " [0.9084066 ]\n",
      " [0.9719348 ]]\n",
      "Step:  700 Cost: -3.3593976 hy_v: [[0.45235193]\n",
      " [0.74603456]\n",
      " [0.9126413 ]\n",
      " [0.9737902 ]]\n",
      "Step:  800 Cost: -3.404339 hy_v: [[0.45621353]\n",
      " [0.7524511 ]\n",
      " [0.916755  ]\n",
      " [0.9755501 ]]\n",
      "Step:  900 Cost: -3.4505148 hy_v: [[0.46013263]\n",
      " [0.758843  ]\n",
      " [0.92074424]\n",
      " [0.9772161 ]]\n",
      "Step:  1000 Cost: -3.4979146 hy_v: [[0.46410793]\n",
      " [0.7652029 ]\n",
      " [0.924607  ]\n",
      " [0.9787909 ]]\n",
      "Step:  1100 Cost: -3.5465393 hy_v: [[0.46814084]\n",
      " [0.77152586]\n",
      " [0.9283425 ]\n",
      " [0.9802771 ]]\n",
      "Step:  1200 Cost: -3.5963624 hy_v: [[0.47222677]\n",
      " [0.77780277]\n",
      " [0.9319491 ]\n",
      " [0.9816776 ]]\n",
      "Step:  1300 Cost: -3.6473713 hy_v: [[0.47636476]\n",
      " [0.7840274 ]\n",
      " [0.93542635]\n",
      " [0.9829951 ]]\n",
      "Step:  1400 Cost: -3.699561 hy_v: [[0.4805553]\n",
      " [0.7901949]\n",
      " [0.9387749]\n",
      " [0.9842329]]\n",
      "Step:  1500 Cost: -3.7529025 hy_v: [[0.4847939 ]\n",
      " [0.79629695]\n",
      " [0.9419945 ]\n",
      " [0.985394  ]]\n",
      "Step:  1600 Cost: -3.8073828 hy_v: [[0.4890808]\n",
      " [0.8023291]\n",
      " [0.9450863]\n",
      " [0.9864819]]\n",
      "Step:  1700 Cost: -3.8629906 hy_v: [[0.49341398]\n",
      " [0.8082858 ]\n",
      " [0.9480519 ]\n",
      " [0.98749965]]\n",
      "Step:  1800 Cost: -3.9196925 hy_v: [[0.4977899]\n",
      " [0.8141603]\n",
      " [0.9508924]\n",
      " [0.9884505]]\n",
      "Step:  1900 Cost: -3.9774883 hy_v: [[0.5022106 ]\n",
      " [0.8199502 ]\n",
      " [0.95361036]\n",
      " [0.9893379 ]]\n"
     ]
    }
   ],
   "source": [
    "sess = tf.Session()\n",
    "sess.run(tf.global_variables_initializer())\n",
    "for step in range(2000):\n",
    "    c_v, hy_v, _ = sess.run([cost, hypothesis, train], feed_dict= {X:x_data,Y:y_data})\n",
    "    if step % 100 == 0 :\n",
    "        print(\"Step: \",step, \"Cost:\",c_v,\"hy_v:\", hy_v)"
   ]
  },
  {
   "cell_type": "code",
   "execution_count": 15,
   "metadata": {},
   "outputs": [
    {
     "name": "stdout",
     "output_type": "stream",
     "text": [
      "0.5\n"
     ]
    }
   ],
   "source": [
    "# 데이터 실제로 넣기\n",
    "print(sess.run(accuracy, feed_dict={X:x_data,Y:y_data}))"
   ]
  },
  {
   "cell_type": "code",
   "execution_count": null,
   "metadata": {},
   "outputs": [],
   "source": [
    "# 내가 hypothesis를 써야하냐, predicted를 써야하냐 라는 것이 중요하다. "
   ]
  },
  {
   "cell_type": "code",
   "execution_count": 22,
   "metadata": {},
   "outputs": [
    {
     "name": "stdout",
     "output_type": "stream",
     "text": [
      "[[1.]]\n"
     ]
    }
   ],
   "source": [
    "print(sess.run(predicted, feed_dict = {X:[[1,2]]}))"
   ]
  },
  {
   "cell_type": "code",
   "execution_count": null,
   "metadata": {},
   "outputs": [],
   "source": []
  }
 ],
 "metadata": {
  "kernelspec": {
   "display_name": "Python 3",
   "language": "python",
   "name": "python3"
  },
  "language_info": {
   "codemirror_mode": {
    "name": "ipython",
    "version": 3
   },
   "file_extension": ".py",
   "mimetype": "text/x-python",
   "name": "python",
   "nbconvert_exporter": "python",
   "pygments_lexer": "ipython3",
   "version": "3.6.5"
  }
 },
 "nbformat": 4,
 "nbformat_minor": 2
}

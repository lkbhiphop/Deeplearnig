{
 "cells": [
  {
   "cell_type": "code",
   "execution_count": 66,
   "metadata": {
    "scrolled": true
   },
   "outputs": [
    {
     "name": "stdout",
     "output_type": "stream",
     "text": [
      "Extracting MNIST_data/train-images-idx3-ubyte.gz\n",
      "Extracting MNIST_data/train-labels-idx1-ubyte.gz\n",
      "Extracting MNIST_data/t10k-images-idx3-ubyte.gz\n",
      "Extracting MNIST_data/t10k-labels-idx1-ubyte.gz\n"
     ]
    }
   ],
   "source": [
    "import tensorflow as tf\n",
    "import numpy as np\n",
    "from tensorflow.examples.tutorials.mnist import input_data\n",
    "mnist = input_data.read_data_sets(\"MNIST_data/\",one_hot = True)"
   ]
  },
  {
   "cell_type": "code",
   "execution_count": 67,
   "metadata": {},
   "outputs": [],
   "source": [
    "x_data = mnist.train.images\n",
    "y_data = mnist.train.labels"
   ]
  },
  {
   "cell_type": "code",
   "execution_count": 85,
   "metadata": {},
   "outputs": [
    {
     "name": "stdout",
     "output_type": "stream",
     "text": [
      "WARNING:tensorflow:From <ipython-input-85-69d09d303e35>:24: softmax_cross_entropy_with_logits (from tensorflow.python.ops.nn_ops) is deprecated and will be removed in a future version.\n",
      "Instructions for updating:\n",
      "\n",
      "Future major versions of TensorFlow will allow gradients to flow\n",
      "into the labels input on backprop by default.\n",
      "\n",
      "See `tf.nn.softmax_cross_entropy_with_logits_v2`.\n",
      "\n"
     ]
    }
   ],
   "source": [
    "# placeholder\n",
    "X = tf.placeholder(tf.float32,shape = [None,784])\n",
    "Y = tf.placeholder(tf.float32,shape = [None,10])\n",
    "# 층 만들기 (3층 노드 10개)\n",
    "# W1의 오른쪽 SHAPE값(노드의 숫자)이 계속 타고 내려가다가 마지막 layer에서 shape값, 최종 ylabel수로 마무리\n",
    "W1 = tf.Variable(tf.random_normal([784,256]))\n",
    "b1 = tf.Variable(tf.random_normal([256]))\n",
    "layer1 = tf.nn.relu(tf.matmul(X,W1)+b1)\n",
    "\n",
    "W2 = tf.Variable(tf.random_normal([256,256]))\n",
    "b2 = tf.Variable(tf.random_normal([256]))\n",
    "layer2 = tf.nn.relu(tf.matmul(layer1,W2)+b2)\n",
    "\n",
    "W3 = tf.Variable(tf.random_normal([256,256]))\n",
    "b3 = tf.Variable(tf.random_normal([256]))\n",
    "layer3 = tf.nn.relu(tf.matmul(layer2,W3)+b1)\n",
    "\n",
    "W4= tf.Variable(tf.random_normal([256,10]))\n",
    "b4 = tf.Variable(tf.random_normal([10]))\n",
    "logits = tf.matmul(layer3,W4) + b4\n",
    "\n",
    "hypothesis = tf.nn.softmax(logits)\n",
    "\n",
    "cost = tf.reduce_mean(tf.nn.softmax_cross_entropy_with_logits(logits = logits, labels = Y))\n",
    "# optimizer\n",
    "# optimizer = tf.train.GradientDescentOptimizer(learning_rate=0.01)\n",
    "optimizer = tf.train.AdamOptimizer(learning_rate=0.01)\n",
    "# 그래프그리기\n",
    "train = optimizer.minimize(cost)"
   ]
  },
  {
   "cell_type": "code",
   "execution_count": 86,
   "metadata": {},
   "outputs": [],
   "source": [
    "is_correct = tf.equal(tf.argmax(hypothesis,1),tf.argmax(Y,1))\n",
    "# hypothesis(예측값) 중 가장 큰 값의 index를 뽑아내는 것\n",
    "accuracy = tf.reduce_mean(tf.cast(is_correct, tf.float32))"
   ]
  },
  {
   "cell_type": "code",
   "execution_count": 87,
   "metadata": {},
   "outputs": [],
   "source": [
    "x_test = mnist.test.images\n",
    "y_test = mnist.test.labels"
   ]
  },
  {
   "cell_type": "code",
   "execution_count": 88,
   "metadata": {},
   "outputs": [
    {
     "name": "stdout",
     "output_type": "stream",
     "text": [
      "Epoch 0 Cost 458.10537163127526\n",
      "Epoch 1 Cost 76.16982465050435\n",
      "Epoch 2 Cost 41.876443472558826\n",
      "Epoch 3 Cost 29.587653484276586\n",
      "Epoch 4 Cost 21.979559774344615\n",
      "Epoch 5 Cost 17.539088394863462\n",
      "Epoch 6 Cost 16.51841252690157\n",
      "Epoch 7 Cost 14.692913195312869\n",
      "Epoch 8 Cost 10.306646541032633\n",
      "Epoch 9 Cost 8.168658694839895\n",
      "Epoch 10 Cost 6.743399423637241\n",
      "Epoch 11 Cost 5.759333053854897\n",
      "Epoch 12 Cost 4.352052203159653\n",
      "Epoch 13 Cost 3.674469461213221\n",
      "Epoch 14 Cost 2.344472430054453\n"
     ]
    }
   ],
   "source": [
    "training_epoch = 15\n",
    "batch_size = 100\n",
    "sess = tf.Session()\n",
    "sess.run(tf.global_variables_initializer())\n",
    "for epoch in range(training_epoch):\n",
    "    total_batch = int(mnist.train.num_examples/batch_size)\n",
    "    # 한 세대를 batch_size로 나누면 총 배치횟수를 알수 있다. \n",
    "    avg_cost = 0\n",
    "    # epoch마다 cost 평균을 구해서 보여줘야하므로 batch for문 위에 avg_cost=0으로 초기화해준다.\n",
    "    for i in range(total_batch):\n",
    "        batch_xs, batch_ys = mnist.train.next_batch(batch_size)\n",
    "        # slicing을 해서 x데이터와 y데이터를 나눠서 반환해준다.\n",
    "        c, _ = sess.run([cost,train], feed_dict = {X:batch_xs,Y:batch_ys})\n",
    "        avg_cost += c/total_batch\n",
    "        # cost를 다 더해서 total_Batch로 나눈것과 같은 효과\n",
    "    print(\"Epoch\",epoch, \"Cost\",avg_cost )"
   ]
  },
  {
   "cell_type": "code",
   "execution_count": 89,
   "metadata": {},
   "outputs": [
    {
     "data": {
      "text/plain": [
       "0.9336"
      ]
     },
     "execution_count": 89,
     "metadata": {},
     "output_type": "execute_result"
    }
   ],
   "source": [
    "sess.run(accuracy, feed_dict={X:x_test,Y:y_test})"
   ]
  },
  {
   "cell_type": "code",
   "execution_count": 90,
   "metadata": {},
   "outputs": [],
   "source": [
    "# sigmoid를 쓰니까 문제가 되고 있었다\n",
    "# deeplearning을 학습하는데 잘 맞지 않았다. \n",
    "# 렐루를  써보자!\n",
    "# 0인부분은 아예 0으로 버리고 양수인 부분을 살렸따\n",
    "# z가 양수인 부분을 살렸따.\n",
    "# 사실 학습이 안된이유\n",
    "# vanishing gradient\n",
    "# sigmoid가 들어가면 0과 1사이값이 나온다. \n",
    "# 그게 계속 곱해지면 gradient가 사라지는 문제가 나온다(분수계속곱하면 작아진다.)\n",
    "# 0과 1사이를 누르지말고 양수는 그대로 양수로 하자\n",
    "# relu는 layer가 많을수록 좋다 왜냐하면 vanishing gradient를 상쇄시켜주니까\n",
    "# \n",
    "\n",
    "# tanh\n",
    "# -1과 1사이의 값\n",
    "# leaky Relu\n",
    "# 0,1x - 음수\n",
    "# x - 양수\n",
    "\n",
    "# 레이어 갯수\n",
    "# 레이어 노드\n",
    "# 학습율\n",
    "# 함수(nanh)\n",
    "# optimizer \n",
    "# 초기화 방식\n",
    "\n",
    "# 시나리오의 타협지점이 있어야한다."
   ]
  },
  {
   "cell_type": "code",
   "execution_count": null,
   "metadata": {},
   "outputs": [],
   "source": []
  }
 ],
 "metadata": {
  "kernelspec": {
   "display_name": "Python 3",
   "language": "python",
   "name": "python3"
  },
  "language_info": {
   "codemirror_mode": {
    "name": "ipython",
    "version": 3
   },
   "file_extension": ".py",
   "mimetype": "text/x-python",
   "name": "python",
   "nbconvert_exporter": "python",
   "pygments_lexer": "ipython3",
   "version": "3.6.5"
  }
 },
 "nbformat": 4,
 "nbformat_minor": 2
}

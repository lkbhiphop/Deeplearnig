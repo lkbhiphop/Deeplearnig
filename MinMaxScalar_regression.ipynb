{
 "cells": [
  {
   "cell_type": "code",
   "execution_count": 1,
   "metadata": {},
   "outputs": [
    {
     "name": "stderr",
     "output_type": "stream",
     "text": [
      "C:\\Anaconda3\\lib\\site-packages\\h5py\\__init__.py:36: FutureWarning: Conversion of the second argument of issubdtype from `float` to `np.floating` is deprecated. In future, it will be treated as `np.float64 == np.dtype(float).type`.\n",
      "  from ._conv import register_converters as _register_converters\n"
     ]
    }
   ],
   "source": [
    "import tensorflow as tf\n",
    "import numpy as np"
   ]
  },
  {
   "cell_type": "code",
   "execution_count": 11,
   "metadata": {},
   "outputs": [],
   "source": [
    "# 데이터를 받아서 normalize한 데이터를 반환하는 함수\n",
    "def MinMaxScalar(data):\n",
    "    bunja = data - np.min(data,0)\n",
    "    bunmo = np.max(data,0) - np.min(data,0)\n",
    "    return bunja/(bunmo+1e-10)\n",
    "    # 분모에 아주작은 숫자를 넣어줘서 0이되는 것을 방지한다"
   ]
  },
  {
   "cell_type": "code",
   "execution_count": 12,
   "metadata": {},
   "outputs": [],
   "source": [
    "xy = np.array([[828.659973, 833.450012, 908100, 828.349976, 831.659973],\n",
    "              [823.02002, 828.070007, 1828100, 821.655029, 828.070007],\n",
    "              [819.929993, 824.400024, 1438100, 818.97998, 824.159973],\n",
    "              [816, 820.958984, 1008100, 815.48999, 819.23999],\n",
    "              [819.359985, 823, 1188100, 818.469971, 818.97998],\n",
    "              [819, 823, 1198100, 816, 820.450012],\n",
    "              [811.700012, 815.25, 1098100, 809.780029, 813.669983],\n",
    "              [809.51001, 816.659973, 1398100, 804.539978, 809.559998]])\n",
    "xy = MinMaxScalar(xy)"
   ]
  },
  {
   "cell_type": "code",
   "execution_count": 13,
   "metadata": {},
   "outputs": [],
   "source": [
    "x_data = xy[:,0:-1]\n",
    "y_data = xy[:,[-1]]"
   ]
  },
  {
   "cell_type": "code",
   "execution_count": 6,
   "metadata": {},
   "outputs": [],
   "source": [
    "X  = tf.placeholder(tf.float32, shape = [None,4])\n",
    "Y = tf.placeholder(tf.float32,shape = [None,1])\n",
    "\n",
    "W = tf.Variable(tf.random_normal([4,1]))\n",
    "b = tf.Variable(tf.random_normal([1]))\n",
    "hypothesis = tf.matmul(X,W)+b\n",
    "\n",
    "cost = tf.reduce_mean(tf.square(hypothesis - Y))\n",
    "optimizer = tf.train.GradientDescentOptimizer(learning_rate=1e-5)\n",
    "train = optimizer.minimize(cost)"
   ]
  },
  {
   "cell_type": "code",
   "execution_count": 16,
   "metadata": {},
   "outputs": [
    {
     "name": "stdout",
     "output_type": "stream",
     "text": [
      "Step: 0 Cost: 0.21231885\n",
      "Step: 100 Cost: 0.21100543\n",
      "Step: 200 Cost: 0.20970006\n",
      "Step: 300 Cost: 0.20840342\n",
      "Step: 400 Cost: 0.2071173\n",
      "Step: 500 Cost: 0.20583993\n",
      "Step: 600 Cost: 0.20457135\n",
      "Step: 700 Cost: 0.20331587\n",
      "Step: 800 Cost: 0.20207086\n",
      "Step: 900 Cost: 0.20083337\n",
      "Step: 1000 Cost: 0.19960417\n",
      "Step: 1100 Cost: 0.19838402\n",
      "Step: 1200 Cost: 0.19717294\n",
      "Step: 1300 Cost: 0.19596967\n",
      "Step: 1400 Cost: 0.19477502\n",
      "Step: 1500 Cost: 0.19359447\n",
      "Step: 1600 Cost: 0.19242144\n",
      "Step: 1700 Cost: 0.19125646\n",
      "Step: 1800 Cost: 0.19009846\n",
      "Step: 1900 Cost: 0.18895072\n"
     ]
    }
   ],
   "source": [
    "sess= tf.Session()\n",
    "# 그래프의 variable 초기화한다\n",
    "sess.run(tf.global_variables_initializer())\n",
    "for step in range(2000):\n",
    "    c, w, k, _ = sess.run([cost,W,b,train], feed_dict = {X:x_data,Y:y_data})\n",
    "    if step % 100 == 0:\n",
    "        print(\"Step:\",step,\"Cost:\", c)"
   ]
  },
  {
   "cell_type": "code",
   "execution_count": null,
   "metadata": {},
   "outputs": [],
   "source": []
  }
 ],
 "metadata": {
  "kernelspec": {
   "display_name": "Python 3",
   "language": "python",
   "name": "python3"
  },
  "language_info": {
   "codemirror_mode": {
    "name": "ipython",
    "version": 3
   },
   "file_extension": ".py",
   "mimetype": "text/x-python",
   "name": "python",
   "nbconvert_exporter": "python",
   "pygments_lexer": "ipython3",
   "version": "3.6.5"
  }
 },
 "nbformat": 4,
 "nbformat_minor": 2
}
